{
  "nbformat": 4,
  "nbformat_minor": 0,
  "metadata": {
    "colab": {
      "provenance": []
    },
    "kernelspec": {
      "name": "python3",
      "display_name": "Python 3"
    },
    "language_info": {
      "name": "python"
    }
  },
  "cells": [
    {
      "cell_type": "code",
      "execution_count": null,
      "metadata": {
        "colab": {
          "base_uri": "https://localhost:8080/"
        },
        "id": "CokdRZaBU9C0",
        "outputId": "5ddfe8c5-228b-4b59-96c1-2d678222c15a"
      },
      "outputs": [
        {
          "output_type": "stream",
          "name": "stderr",
          "text": [
            "<ipython-input-2-78b6f6ce7667>:61: FutureWarning: The frame.append method is deprecated and will be removed from pandas in a future version. Use pandas.concat instead.\n",
            "  feature_vectors = feature_vectors.append(pd.Series(feature_vector, index=feature_names), ignore_index=True)\n",
            "<ipython-input-2-78b6f6ce7667>:61: FutureWarning: The frame.append method is deprecated and will be removed from pandas in a future version. Use pandas.concat instead.\n",
            "  feature_vectors = feature_vectors.append(pd.Series(feature_vector, index=feature_names), ignore_index=True)\n",
            "<ipython-input-2-78b6f6ce7667>:61: FutureWarning: The frame.append method is deprecated and will be removed from pandas in a future version. Use pandas.concat instead.\n",
            "  feature_vectors = feature_vectors.append(pd.Series(feature_vector, index=feature_names), ignore_index=True)\n",
            "<ipython-input-2-78b6f6ce7667>:61: FutureWarning: The frame.append method is deprecated and will be removed from pandas in a future version. Use pandas.concat instead.\n",
            "  feature_vectors = feature_vectors.append(pd.Series(feature_vector, index=feature_names), ignore_index=True)\n"
          ]
        }
      ],
      "source": [
        "import pandas as pd\n",
        "from scipy import signal as sig\n",
        "import numpy as np\n",
        "from math import pi\n",
        "\n",
        "\n",
        "file_paths = [\n",
        "        'pbs_25.csv',\n",
        "        'pbs_22.csv',\n",
        "        'pbs_23.csv',\n",
        "        'pbs_24.csv',\n",
        "]\n",
        "# Define the feature names\n",
        "feature_names = ['peak_to_peak_amplitude', 'mean_amplitude_peaks', 'mean_amplitude_valleys', 'std_deviation_peak_amplitudes', 'std_deviation_valley_amplitudes', 'signal_energy', 'signal_power', 'zero_crossing_rate']\n",
        "\n",
        "feature_vectors = pd.DataFrame(columns=feature_names)\n",
        "\n",
        "# Loop for the selected CSV files\n",
        "for file_path in file_paths:\n",
        "    # Read the CSV file\n",
        "    data = pd.read_csv(file_path)\n",
        "    t = data['timestamp']\n",
        "    values = data['uA']\n",
        "# High pass filter\n",
        "    N = 4\n",
        "    fc = 5\n",
        "    Fs = 20\n",
        "    w_c = 2 * fc / Fs\n",
        "    b, a = sig.butter(N, w_c, 'high')\n",
        "    o = sig.filtfilt(b, a, values)\n",
        "# Low pass filter\n",
        "    n = 4\n",
        "    Fc = 7\n",
        "    fs = 20\n",
        "    w_c = 2 * Fc / fs\n",
        "    b, a = sig.butter(n, w_c, 'low')\n",
        "    signal= sig.filtfilt(b, a, o)\n",
        "# Take first deriative of cleaned signal\n",
        "    derivative = np.gradient(signal)\n",
        "# Find peaks and valleys of deriative of signal\n",
        "    peaks, _ = sig.find_peaks(derivative, height=0.2)\n",
        "    valleys, _ = sig.find_peaks(-derivative, height=0.2)\n",
        "# Calculate features\n",
        "    peak_amplitudes = signal[peaks]\n",
        "    valley_amplitudes = signal[valleys]\n",
        "    peak_to_peak_amplitude = np.max(peak_amplitudes) - np.min(valley_amplitudes)\n",
        "    mean_amplitude_peaks = np.mean(peak_amplitudes)\n",
        "    mean_amplitude_valleys = np.mean(valley_amplitudes)\n",
        "    std_deviation_peak_amplitudes = np.std(peak_amplitudes)\n",
        "    std_deviation_valley_amplitudes = np.std(valley_amplitudes)\n",
        "    signal_energy = np.sum(signal**2)\n",
        "    signal_power = signal_energy / len(signal)\n",
        "    zero_crossings = np.where(np.diff(np.sign(signal)))[0]\n",
        "    zero_crossing_rate = len(zero_crossings) / len(signal)\n",
        "\n",
        "    # Create a feature vector\n",
        "    feature_vector = [peak_to_peak_amplitude, mean_amplitude_peaks, mean_amplitude_valleys,\n",
        "                       std_deviation_peak_amplitudes, std_deviation_valley_amplitudes, signal_energy, signal_power, zero_crossing_rate]\n",
        "\n",
        "    feature_vectors = feature_vectors.append(pd.Series(feature_vector, index=feature_names), ignore_index=True)\n",
        "\n",
        "    # Export the feature vectors to a CSV file\n",
        "    feature_vectors.to_csv('feature_vectors.csv', index=False)\n"
      ]
    },
    {
      "cell_type": "code",
      "source": [
        "import pandas as pd\n",
        "from sklearn.model_selection import train_test_split\n",
        "from sklearn.ensemble import RandomForestClassifier\n",
        "from sklearn.metrics import accuracy_score, precision_score\n",
        "\n",
        "#Load and preprocess features vectors csv file\n",
        "data = pd.read_csv('features_set_100x7.csv')  # Replace with your vectors file\n",
        "data.dropna(inplace=True)\n",
        "\n",
        "# Load dataset and separate features (X) and target variable (y)\n",
        "X = data.drop('Type', axis=1)  # Excluding 'Type' as it is the target variable\n",
        "y = data['Type']\n",
        "\n",
        "# Split the Data (70% for training of model and 30% for testing and validation, giving each of them half (15%) of 30%.\n",
        "X_train, X_temp, y_train, y_temp = train_test_split(X, y, test_size=0.3, random_state=1880)\n",
        "X_validation, X_test, y_validation, y_test = train_test_split(X_temp, y_temp, test_size=0.5, random_state=1880)\n",
        "\n",
        "# Train the Random Forest Classifier\n",
        "rf_classifier = RandomForestClassifier(\n",
        "    n_estimators=100,\n",
        "    max_depth=20,\n",
        "    min_samples_split=2,\n",
        "    min_samples_leaf=4,\n",
        "    random_state=1880\n",
        ")\n",
        "rf_classifier.fit(X_train, y_train)\n",
        "\n",
        "# Validate the Model\n",
        "y_validation_pred = rf_classifier.predict(X_validation)\n",
        "\n",
        "# Test the Model\n",
        "y_test_pred = rf_classifier.predict(X_test)\n",
        "\n",
        "# Calculation acurracy and precision scores for validation and testing respectively\n",
        "validation_accuracy = accuracy_score(y_validation, y_validation_pred)\n",
        "test_accuracy = accuracy_score(y_test, y_test_pred)\n",
        "validation_precision = precision_score(y_validation, y_validation_pred, average='weighted')\n",
        "test_precision = precision_score(y_test, y_test_pred, average='weighted')\n",
        "\n",
        "\n",
        "#Print test results with classes\n",
        "test_results = pd.DataFrame({'Actual': y_test, 'Predicted': y_test_pred})\n",
        "print(\"\\nTest Results:\")\n",
        "print(test_results)\n",
        "# Print validation results with classes\n",
        "validation_results = pd.DataFrame({'Actual': y_validation, 'Predicted': y_validation_pred})\n",
        "print(\"\\nValidation Results:\")\n",
        "print(validation_results)\n",
        "\n",
        "print(\"\\nValidation Accuracy: {:.3f}\".format(validation_accuracy))\n",
        "print(\"\\nTest Accuracy: {:.3f}\".format(test_accuracy))\n",
        "print(\"\\nValidation Precision: {:.3f}\".format(validation_precision))\n",
        "print(\"\\nTest Precision: {:.3f}\".format(test_precision))\n",
        "\n",
        "\n"
      ],
      "metadata": {
        "colab": {
          "base_uri": "https://localhost:8080/"
        },
        "id": "TSwYiHsar9L2",
        "outputId": "7e7179f4-7418-4335-81c5-eab9fed2f20f"
      },
      "execution_count": null,
      "outputs": [
        {
          "output_type": "stream",
          "name": "stdout",
          "text": [
            "\n",
            "Test Results:\n",
            "       Actual Predicted\n",
            "166        AA        AA\n",
            "374  AA_UA_DA  AA_UA_DA\n",
            "242     AA_DA        AA\n",
            "331  AA_UA_DA  AA_UA_DA\n",
            "562        DA        DA\n",
            "..        ...       ...\n",
            "254     UA_DA     UA_DA\n",
            "419     UA_DA     UA_DA\n",
            "13         AA        AA\n",
            "214        AA        AA\n",
            "622    PBS_DA    PBS_DA\n",
            "\n",
            "[108 rows x 2 columns]\n",
            "\n",
            "Validation Results:\n",
            "     Actual Predicted\n",
            "522      AA        AA\n",
            "444   UA_DA     UA_DA\n",
            "295   UA_DA     UA_DA\n",
            "238      DA        DA\n",
            "146   AA_DA     AA_DA\n",
            "..      ...       ...\n",
            "652  PBS_DA    PBS_DA\n",
            "681  PBS_DA    PBS_DA\n",
            "118      DA        UA\n",
            "665  PBS_DA    PBS_DA\n",
            "418   UA_DA     AA_DA\n",
            "\n",
            "[107 rows x 2 columns]\n",
            "\n",
            "Validation Accuracy: 0.766\n",
            "\n",
            "Test Accuracy: 0.815\n",
            "\n",
            "Validation Precision: 0.787\n",
            "\n",
            "Test Precision: 0.818\n"
          ]
        }
      ]
    },
    {
      "cell_type": "code",
      "source": [
        "import pandas as pd\n",
        "from sklearn.model_selection import cross_val_score, KFold\n",
        "from sklearn.ensemble import RandomForestClassifier\n",
        "\n",
        "# Load dataset and separate features (X) and target variable (y)\n",
        "data = pd.read_csv('features_set_100x7.csv')  # Replace with your vectors file\n",
        "X = data.drop('Type', axis=1)  # Features\n",
        "y = data['Type']  # Target variable\n",
        "\n",
        "model = RandomForestClassifier(random_state=1880)\n",
        "kfold = KFold(n_splits=5, shuffle=True, random_state=1880)\n",
        "\n",
        "# Perform 5-fold cross-validation and evaluate using accuracy\n",
        "scores = cross_val_score(model, X, y, cv=kfold, scoring='accuracy')\n",
        "\n",
        "# Calculate mean and standard deviation of accuracy scores\n",
        "mean_accuracy = scores.mean()\n",
        "std_accuracy = scores.std()\n",
        "\n",
        "# Print results\n",
        "print(f'Mean Accuracy: {mean_accuracy}')\n",
        "print(f'Standard Deviation: {std_accuracy}')\n"
      ],
      "metadata": {
        "colab": {
          "base_uri": "https://localhost:8080/"
        },
        "id": "TyAfkWl1uA5x",
        "outputId": "162c1464-9f83-45de-ab19-fb8ae435c00d"
      },
      "execution_count": null,
      "outputs": [
        {
          "output_type": "stream",
          "name": "stdout",
          "text": [
            "Mean Accuracy: 0.803049728049728\n",
            "Standard Deviation: 0.024944659701907616\n"
          ]
        }
      ]
    }
  ]
}